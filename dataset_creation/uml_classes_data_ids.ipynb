{
 "cells": [
  {
   "cell_type": "code",
   "execution_count": 28,
   "metadata": {},
   "outputs": [],
   "source": [
    "import os\n",
    "path = os.getcwd()\n",
    "import shutil"
   ]
  },
  {
   "cell_type": "code",
   "execution_count": 42,
   "metadata": {},
   "outputs": [],
   "source": [
    "i = 1\n",
    "for file in os.listdir(path):\n",
    "    if file.endswith(\".txt\"):\n",
    "        with open(file, 'r+') as f:\n",
    "            content = f.read()\n",
    "            with open(\"new_data/\" + str(i) + \".txt\", \"w\") as f:\n",
    "                f.write(str(i).rstrip('\\r\\n') + '\\n' + content)\n",
    "        \n",
    "        try:\n",
    "            shutil.copy(file.split(\".\")[0] + \".jpg\", \"new_data/\" + str(i) + \".jpg\")\n",
    "        except:\n",
    "            try: shutil.copy(file.split(\".\")[0] + \".png\", \"new_data/\" + str(i) + \".png\")\n",
    "            except: shutil.copy(file.split(\".\")[0][:-3] + \".png\", \"new_data/\" + str(i) + \".png\")\n",
    "        i += 1"
   ]
  },
  {
   "cell_type": "code",
   "execution_count": 24,
   "metadata": {},
   "outputs": [],
   "source": []
  }
 ],
 "metadata": {
  "kernelspec": {
   "display_name": "Python 3.10.6 64-bit",
   "language": "python",
   "name": "python3"
  },
  "language_info": {
   "codemirror_mode": {
    "name": "ipython",
    "version": 3
   },
   "file_extension": ".py",
   "mimetype": "text/x-python",
   "name": "python",
   "nbconvert_exporter": "python",
   "pygments_lexer": "ipython3",
   "version": "3.10.6"
  },
  "orig_nbformat": 4,
  "vscode": {
   "interpreter": {
    "hash": "082e64572b90650937dae3667d697597e31ee0e1d6e04ada7e7de5b97cb57169"
   }
  }
 },
 "nbformat": 4,
 "nbformat_minor": 2
}
